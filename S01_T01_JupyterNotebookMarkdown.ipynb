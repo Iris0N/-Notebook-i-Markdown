{
 "cells": [
  {
   "cell_type": "markdown",
   "id": "fb42099e",
   "metadata": {},
   "source": [
    "# Heading\n",
    "## Heading\n",
    "### Heading\n",
    "###### Heading"
   ]
  },
  {
   "cell_type": "markdown",
   "id": "2ec18ee8",
   "metadata": {},
   "source": [
    "- Point\n",
    "* Point\n",
    "+ Point\n",
    "    * point"
   ]
  },
  {
   "cell_type": "markdown",
   "id": "63614e11",
   "metadata": {},
   "source": [
    "User single _underscores_ or single \"asterisks\" to get italics"
   ]
  },
  {
   "cell_type": "code",
   "execution_count": 1,
   "id": "972cab77",
   "metadata": {},
   "outputs": [
    {
     "name": "stdout",
     "output_type": "stream",
     "text": [
      "Hello Jupyter!\n"
     ]
    }
   ],
   "source": [
    "print('Hello Jupyter!')"
   ]
  },
  {
   "cell_type": "code",
   "execution_count": 2,
   "id": "8140eb84",
   "metadata": {},
   "outputs": [
    {
     "name": "stdout",
     "output_type": "stream",
     "text": [
      "Hello there, Iris Martinez!\n"
     ]
    }
   ],
   "source": [
    "Name = \"Iris\"\n",
    "Surname = \"Martinez\"\n",
    "Text = \"Hello there, %s %s!\"\n",
    "Hello = Text %  (Name, Surname)\n",
    "print(Hello)"
   ]
  },
  {
   "cell_type": "code",
   "execution_count": 3,
   "id": "5f07b5d5",
   "metadata": {},
   "outputs": [
    {
     "name": "stdout",
     "output_type": "stream",
     "text": [
      "['crossfit', 'swimming', 'running', 'jiujitsu', 'korean', 'taiwanese', 'italian', 'japanese']\n"
     ]
    }
   ],
   "source": [
    "games = [ \"crossfit\" , \"swimming\" , \"running\" , \"jiujitsu\" ]\n",
    "foods = [ \"korean\" , \"taiwanese\" , \"italian\", \"japanese\" ]\n",
    "favorites= ( games + foods )\n",
    "print(favorites)"
   ]
  },
  {
   "cell_type": "code",
   "execution_count": 4,
   "id": "15dd2704",
   "metadata": {},
   "outputs": [],
   "source": [
    "import turtle\n",
    "\n",
    "t = turtle.Pen()\n",
    "t.pencolor(\"red\")\n",
    "for x in range(100):\n",
    "    t.forward(x)\n",
    "    t.left(91)"
   ]
  },
  {
   "cell_type": "code",
   "execution_count": null,
   "id": "46c07191",
   "metadata": {},
   "outputs": [],
   "source": []
  }
 ],
 "metadata": {
  "kernelspec": {
   "display_name": "Python 3 (ipykernel)",
   "language": "python",
   "name": "python3"
  },
  "language_info": {
   "codemirror_mode": {
    "name": "ipython",
    "version": 3
   },
   "file_extension": ".py",
   "mimetype": "text/x-python",
   "name": "python",
   "nbconvert_exporter": "python",
   "pygments_lexer": "ipython3",
   "version": "3.9.7"
  }
 },
 "nbformat": 4,
 "nbformat_minor": 5
}
